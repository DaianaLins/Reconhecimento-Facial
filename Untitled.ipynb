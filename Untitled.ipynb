{
 "cells": [
  {
   "cell_type": "code",
   "execution_count": 2,
   "id": "5248b607",
   "metadata": {},
   "outputs": [],
   "source": [
    "import cv2 #opencv\n",
    "import mediapipe as mp\n",
    "\n",
    "#inicialização do opencv (conexão com webcam )\n",
    "\n",
    "webcam = cv2.VideoCapture(0)\n",
    "solucao_reconhecimento_rosto = mp.solutions.face_detection\n",
    "reconhecedor_rostos = solucao_reconhecimento_rosto.FaceDetection()\n",
    "desenho = mp.solutions.drawing_utils\n",
    "\n",
    "while True:\n",
    "    # ler informações\n",
    "    verificador, frame = webcam.read()\n",
    "    \n",
    "    if not verificador:\n",
    "        break\n",
    "    # Reconhcer rostos\n",
    "    lista_rostos =  reconhecedor_rostos.process(frame)\n",
    "    \n",
    "    if lista_rostos.detections:\n",
    "        for rosto in lista_rostos.detections:\n",
    "            #desenhar rostos\n",
    "            desenho.draw_detection(frame, rosto)\n",
    "            \n",
    "    cv2.imshow(\"Rostos na WebCam\", frame)        \n",
    "    \n",
    "    #para o loop quando aperta ESC\n",
    "    if cv2.waitKey(5) == 27:\n",
    "        break\n",
    "\n",
    "webcam.release()\n",
    "cv2.destroyAllWindows() # fecha a janela que mostra o que a webcam está vendo\n"
   ]
  },
  {
   "cell_type": "code",
   "execution_count": null,
   "id": "f84b7f8c",
   "metadata": {},
   "outputs": [],
   "source": []
  },
  {
   "cell_type": "code",
   "execution_count": null,
   "id": "edfa1d2a",
   "metadata": {},
   "outputs": [],
   "source": []
  }
 ],
 "metadata": {
  "kernelspec": {
   "display_name": "Python 3 (ipykernel)",
   "language": "python",
   "name": "python3"
  },
  "language_info": {
   "codemirror_mode": {
    "name": "ipython",
    "version": 3
   },
   "file_extension": ".py",
   "mimetype": "text/x-python",
   "name": "python",
   "nbconvert_exporter": "python",
   "pygments_lexer": "ipython3",
   "version": "3.9.13"
  }
 },
 "nbformat": 4,
 "nbformat_minor": 5
}
